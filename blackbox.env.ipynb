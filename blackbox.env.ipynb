{
 "cells": [
  {
   "cell_type": "code",
   "execution_count": 3,
   "id": "1d2acdf3",
   "metadata": {},
   "outputs": [],
   "source": [
    "OPENAI_API_KEY=\"6299514356:AAHhpS5qYiQ4TqyE4UAPV21g_0K6IDPryD4\"\n",
    "TELEGRAM_BOT_TOKEN=\"6299514356:AAHhpS5qYiQ4TqyE4UAPV21g_0K6IDPryD4\"\n",
    "\n",
    "# Optional parameters\n",
    "ALLOWED_TELEGRAM_USER_IDS=\"USER_ID_1,USER_ID_2,...\" # Defaults to \"*\" (everyone)\n",
    "PROXY=\"YOUR_PROXY\" # e.g. \"http://localhost:8080\", defaults to none\n",
    "ASSISTANT_PROMPT=\"Custom prompt\" # Defaults to \"You are a helpful assistant.\"\n",
    "SHOW_USAGE=True # Defaults to false\n",
    "MAX_TOKENS=2000 # Defaults to 1200\n",
    "MAX_HISTORY_SIZE=15 # Defaults to 10\n",
    "MAX_CONVERSATION_AGE_MINUTES=120 # Defaults to 180 (3h)\n",
    "VOICE_REPLY_WITH_TRANSCRIPT_ONLY=False # Defaults to true"
   ]
  },
  {
   "cell_type": "code",
   "execution_count": null,
   "id": "3c23e738",
   "metadata": {},
   "outputs": [],
   "source": []
  }
 ],
 "metadata": {
  "kernelspec": {
   "display_name": "Python 3 (ipykernel)",
   "language": "python",
   "name": "python3"
  },
  "language_info": {
   "codemirror_mode": {
    "name": "ipython",
    "version": 3
   },
   "file_extension": ".py",
   "mimetype": "text/x-python",
   "name": "python",
   "nbconvert_exporter": "python",
   "pygments_lexer": "ipython3",
   "version": "3.9.12"
  }
 },
 "nbformat": 4,
 "nbformat_minor": 5
}
