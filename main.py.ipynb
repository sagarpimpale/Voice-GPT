{
 "cells": [
  {
   "cell_type": "code",
   "execution_count": 1,
   "id": "0dda099a",
   "metadata": {},
   "outputs": [
    {
     "data": {
      "text/plain": [
       "{'model': 'gpt-3.5-turbo',\n",
       " 'temperature': 1,\n",
       " 'n_choices': 1,\n",
       " 'presence_penalty': 0,\n",
       " 'frequency_penalty': 0,\n",
       " 'image_size': '512x512'}"
      ]
     },
     "execution_count": 1,
     "metadata": {},
     "output_type": "execute_result"
    }
   ],
   "source": [
    "{\n",
    "    # 'gpt-3.5-turbo' or 'gpt-3.5-turbo-0301'\n",
    "    'model': 'gpt-3.5-turbo',\n",
    "\n",
    "    # Number between 0 and 2. Higher values like 0.8 will make the output more random,\n",
    "    # while lower values like 0.2 will make it more focused and deterministic. Defaults to 1\n",
    "    'temperature': 1,\n",
    "    \n",
    "    # How many answers to generate for each input message. Defaults to 1\n",
    "    'n_choices': 1,\n",
    "\n",
    "    # Number between -2.0 and 2.0. Positive values penalize new tokens based on whether\n",
    "    # they appear in the text so far, increasing the model's likelihood to talk about new topics. Defaults to 0\n",
    "    'presence_penalty': 0,\n",
    "    \n",
    "    # Number between -2.0 and 2.0. Positive values penalize new tokens based on their existing\n",
    "    # frequency in the text so far, decreasing the model's likelihood to repeat the same line verbatim. Defaults to 0\n",
    "    'frequency_penalty': 0,\n",
    "    \n",
    "    # The DALL·E generated image size. 256x256, 512x512, or 1024x1024. Defaults to 512x512\n",
    "    'image_size': '512x512'\n",
    "}"
   ]
  },
  {
   "cell_type": "code",
   "execution_count": null,
   "id": "78fa830d",
   "metadata": {},
   "outputs": [],
   "source": []
  }
 ],
 "metadata": {
  "kernelspec": {
   "display_name": "Python 3 (ipykernel)",
   "language": "python",
   "name": "python3"
  },
  "language_info": {
   "codemirror_mode": {
    "name": "ipython",
    "version": 3
   },
   "file_extension": ".py",
   "mimetype": "text/x-python",
   "name": "python",
   "nbconvert_exporter": "python",
   "pygments_lexer": "ipython3",
   "version": "3.9.12"
  }
 },
 "nbformat": 4,
 "nbformat_minor": 5
}
