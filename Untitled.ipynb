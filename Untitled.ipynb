{
 "cells": [
  {
   "cell_type": "code",
   "execution_count": 4,
   "id": "43cdfa7e",
   "metadata": {},
   "outputs": [
    {
     "ename": "NameError",
     "evalue": "name 'use_context' is not defined",
     "output_type": "error",
     "traceback": [
      "\u001b[1;31m---------------------------------------------------------------------------\u001b[0m",
      "\u001b[1;31mNameError\u001b[0m                                 Traceback (most recent call last)",
      "Input \u001b[1;32mIn [4]\u001b[0m, in \u001b[0;36m<cell line: 39>\u001b[1;34m()\u001b[0m\n\u001b[0;32m     36\u001b[0m callback_context \u001b[38;5;241m=\u001b[39m CallbackContext(\u001b[38;5;124m'\u001b[39m\u001b[38;5;124mGPT_VoiceAssistant_bot\u001b[39m\u001b[38;5;124m'\u001b[39m)\n\u001b[0;32m     38\u001b[0m \u001b[38;5;66;03m# Create an Updater instance and attach the MessageHandler to its Dispatcher\u001b[39;00m\n\u001b[1;32m---> 39\u001b[0m updater \u001b[38;5;241m=\u001b[39m Updater(\u001b[38;5;124m\"\u001b[39m\u001b[38;5;124m6299514356:AAHhpS5qYiQ4TqyE4UAPV21g_0K6IDPryD4\u001b[39m\u001b[38;5;124m\"\u001b[39m, \u001b[43muse_context\u001b[49m)\n\u001b[0;32m     40\u001b[0m updater\u001b[38;5;241m.\u001b[39mdispatcher\u001b[38;5;241m.\u001b[39madd_handler(MessageHandler(Filters\u001b[38;5;241m.\u001b[39mtext, handle_message))\n\u001b[0;32m     42\u001b[0m \u001b[38;5;66;03m# Start the polling loop\u001b[39;00m\n",
      "\u001b[1;31mNameError\u001b[0m: name 'use_context' is not defined"
     ]
    }
   ],
   "source": [
    "import telegram\n",
    "import openai\n",
    "from gtts import gTTS\n",
    "from io import BytesIO\n",
    "from telegram.ext import Updater, MessageHandler, CallbackContext\n",
    "\n",
    "# Define a function to handle incoming messages from users\n",
    "def handle_message(update, context):\n",
    "    # Get the user's message\n",
    "    message = update.message.text\n",
    "    \n",
    "    # Use the OpenAI API to generate a response\n",
    "    response = openai.Completion.create(\n",
    "        engine='davinci',\n",
    "        prompt=message,\n",
    "        max_tokens=1024,\n",
    "        n=1,\n",
    "        stop=None,\n",
    "        temperature=0.5,\n",
    "    )\n",
    "    \n",
    "    # Convert the response text to speech using Google Text-to-Speech\n",
    "    tts = gTTS(text=response.choices[0].text)\n",
    "    audio_file = BytesIO()\n",
    "    tts.write_to_fp(audio_file)\n",
    "    audio_file.seek(0)\n",
    "    \n",
    "    # Send the speech as an audio message\n",
    "    update.message.reply_voice(voice=audio_file)\n",
    "\n",
    "# Initialize the Telegram bot and OpenAI API\n",
    "bot = telegram.Bot(\"6299514356:AAHhpS5qYiQ4TqyE4UAPV21g_0K6IDPryD4\")\n",
    "openai.api_key =\"6299514356:AAHhpS5qYiQ4TqyE4UAPV21g_0K6IDPryD4\"\n",
    "\n",
    "# Create a CallbackContext instance\n",
    "callback_context = CallbackContext('GPT_VoiceAssistant_bot')\n",
    "\n",
    "# Create an Updater instance and attach the MessageHandler to its Dispatcher\n",
    "updater = Updater(\"6299514356:AAHhpS5qYiQ4TqyE4UAPV21g_0K6IDPryD4\", use_context=True)\n",
    "updater.dispatcher.add_handler(MessageHandler(Filters.text, handle_message))\n",
    "\n",
    "# Start the polling loop\n",
    "updater.start_polling()\n",
    "updater.idle()\n"
   ]
  },
  {
   "cell_type": "code",
   "execution_count": null,
   "id": "2b025f36",
   "metadata": {},
   "outputs": [],
   "source": []
  }
 ],
 "metadata": {
  "kernelspec": {
   "display_name": "Python 3 (ipykernel)",
   "language": "python",
   "name": "python3"
  },
  "language_info": {
   "codemirror_mode": {
    "name": "ipython",
    "version": 3
   },
   "file_extension": ".py",
   "mimetype": "text/x-python",
   "name": "python",
   "nbconvert_exporter": "python",
   "pygments_lexer": "ipython3",
   "version": "3.9.12"
  }
 },
 "nbformat": 4,
 "nbformat_minor": 5
}
